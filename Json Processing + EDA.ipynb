{
  "cells": [
    {
      "metadata": {
        "trusted": true,
        "_uuid": "96c94d736fcbe8b08568f1cdac55e89e6d39e957"
      },
      "cell_type": "markdown",
      "source": "> # Predict revenue per customer for a Google Merchandise store.\n### **What is Revenue:**\n\nIt is total revenue in a given time period by the number of users in that time period.\n\n**Revenue: ** **Total Revenue/ Number of Users.**\n\n### Whay to choose specific algorithms? Which algorithms I can use? What are specification of algorithm. List all prediction algorithms. \n"
    },
    {
      "metadata": {
        "_uuid": "8f2839f25d086af736a60e9eeb907d3b93b6e0e5",
        "_cell_guid": "b1076dfc-b9ad-4769-8c92-a6c4dae69d19",
        "trusted": true
      },
      "cell_type": "code",
      "source": "# This Python 3 environment comes with many helpful analytics libraries installed\n# It is defined by the kaggle/python docker image: https://github.com/kaggle/docker-python\n# For example, here's several helpful packages to load in \n\nimport numpy as np # linear algebra\nimport pandas as pd # data processing, CSV file I/O (e.g. pd.read_csv)\nimport json\n# Input data files are available in the \"../input/\" directory.\n# For example, running this (by clicking run or pressing Shift+Enter) will list the files in the input directory\n\nimport os\nprint(os.listdir(\"../input\"))\nfrom sklearn.metrics import confusion_matrix\n# Any results you write to the current directory are saved as output.",
      "execution_count": 51,
      "outputs": [
        {
          "output_type": "stream",
          "text": "['train.csv', 'sample_submission.csv', 'test.csv']\n",
          "name": "stdout"
        }
      ]
    },
    {
      "metadata": {
        "_uuid": "9323f620ca62e15620d621d732e920cef097f56d"
      },
      "cell_type": "markdown",
      "source": "### Read train.csv file \n"
    },
    {
      "metadata": {
        "_cell_guid": "79c7e3d0-c299-4dcb-8224-4455121ee9b0",
        "_uuid": "d629ff2d2480ee46fbb7e2d37f6b5fab8052498a",
        "trusted": true
      },
      "cell_type": "code",
      "source": "\ndf = pd.read_csv('../input/train.csv') #parse_dates=['date'])",
      "execution_count": 52,
      "outputs": []
    },
    {
      "metadata": {
        "trusted": true,
        "_uuid": "2a8ecdd1e8e5a4411ba8c7ffa3c552d7573b5860"
      },
      "cell_type": "code",
      "source": "df.head()",
      "execution_count": 53,
      "outputs": [
        {
          "output_type": "execute_result",
          "execution_count": 53,
          "data": {
            "text/plain": "  channelGrouping      date      ...       visitNumber visitStartTime\n0  Organic Search  20160902      ...                 1     1472830385\n1  Organic Search  20160902      ...                 1     1472880147\n2  Organic Search  20160902      ...                 1     1472865386\n3  Organic Search  20160902      ...                 1     1472881213\n4  Organic Search  20160902      ...                 2     1472822600\n\n[5 rows x 12 columns]",
            "text/html": "<div>\n<style scoped>\n    .dataframe tbody tr th:only-of-type {\n        vertical-align: middle;\n    }\n\n    .dataframe tbody tr th {\n        vertical-align: top;\n    }\n\n    .dataframe thead th {\n        text-align: right;\n    }\n</style>\n<table border=\"1\" class=\"dataframe\">\n  <thead>\n    <tr style=\"text-align: right;\">\n      <th></th>\n      <th>channelGrouping</th>\n      <th>date</th>\n      <th>device</th>\n      <th>fullVisitorId</th>\n      <th>geoNetwork</th>\n      <th>sessionId</th>\n      <th>socialEngagementType</th>\n      <th>totals</th>\n      <th>trafficSource</th>\n      <th>visitId</th>\n      <th>visitNumber</th>\n      <th>visitStartTime</th>\n    </tr>\n  </thead>\n  <tbody>\n    <tr>\n      <th>0</th>\n      <td>Organic Search</td>\n      <td>20160902</td>\n      <td>{\"browser\": \"Chrome\", \"browserVersion\": \"not a...</td>\n      <td>1131660440785968503</td>\n      <td>{\"continent\": \"Asia\", \"subContinent\": \"Western...</td>\n      <td>1131660440785968503_1472830385</td>\n      <td>Not Socially Engaged</td>\n      <td>{\"visits\": \"1\", \"hits\": \"1\", \"pageviews\": \"1\",...</td>\n      <td>{\"campaign\": \"(not set)\", \"source\": \"google\", ...</td>\n      <td>1472830385</td>\n      <td>1</td>\n      <td>1472830385</td>\n    </tr>\n    <tr>\n      <th>1</th>\n      <td>Organic Search</td>\n      <td>20160902</td>\n      <td>{\"browser\": \"Firefox\", \"browserVersion\": \"not ...</td>\n      <td>377306020877927890</td>\n      <td>{\"continent\": \"Oceania\", \"subContinent\": \"Aust...</td>\n      <td>377306020877927890_1472880147</td>\n      <td>Not Socially Engaged</td>\n      <td>{\"visits\": \"1\", \"hits\": \"1\", \"pageviews\": \"1\",...</td>\n      <td>{\"campaign\": \"(not set)\", \"source\": \"google\", ...</td>\n      <td>1472880147</td>\n      <td>1</td>\n      <td>1472880147</td>\n    </tr>\n    <tr>\n      <th>2</th>\n      <td>Organic Search</td>\n      <td>20160902</td>\n      <td>{\"browser\": \"Chrome\", \"browserVersion\": \"not a...</td>\n      <td>3895546263509774583</td>\n      <td>{\"continent\": \"Europe\", \"subContinent\": \"South...</td>\n      <td>3895546263509774583_1472865386</td>\n      <td>Not Socially Engaged</td>\n      <td>{\"visits\": \"1\", \"hits\": \"1\", \"pageviews\": \"1\",...</td>\n      <td>{\"campaign\": \"(not set)\", \"source\": \"google\", ...</td>\n      <td>1472865386</td>\n      <td>1</td>\n      <td>1472865386</td>\n    </tr>\n    <tr>\n      <th>3</th>\n      <td>Organic Search</td>\n      <td>20160902</td>\n      <td>{\"browser\": \"UC Browser\", \"browserVersion\": \"n...</td>\n      <td>4763447161404445595</td>\n      <td>{\"continent\": \"Asia\", \"subContinent\": \"Southea...</td>\n      <td>4763447161404445595_1472881213</td>\n      <td>Not Socially Engaged</td>\n      <td>{\"visits\": \"1\", \"hits\": \"1\", \"pageviews\": \"1\",...</td>\n      <td>{\"campaign\": \"(not set)\", \"source\": \"google\", ...</td>\n      <td>1472881213</td>\n      <td>1</td>\n      <td>1472881213</td>\n    </tr>\n    <tr>\n      <th>4</th>\n      <td>Organic Search</td>\n      <td>20160902</td>\n      <td>{\"browser\": \"Chrome\", \"browserVersion\": \"not a...</td>\n      <td>27294437909732085</td>\n      <td>{\"continent\": \"Europe\", \"subContinent\": \"North...</td>\n      <td>27294437909732085_1472822600</td>\n      <td>Not Socially Engaged</td>\n      <td>{\"visits\": \"1\", \"hits\": \"1\", \"pageviews\": \"1\",...</td>\n      <td>{\"campaign\": \"(not set)\", \"source\": \"google\", ...</td>\n      <td>1472822600</td>\n      <td>2</td>\n      <td>1472822600</td>\n    </tr>\n  </tbody>\n</table>\n</div>"
          },
          "metadata": {}
        }
      ]
    },
    {
      "metadata": {
        "_uuid": "e76c0fb61536d1f86136095a16288b134f5d3726"
      },
      "cell_type": "markdown",
      "source": "## Data Fields: Column Information\n\nfullVisitorId- A unique identifier for each user of the Google Merchandise Store. <br>\nchannelGrouping - The channel via which the user came to the Store. <br>\ndate - The date on which the user visited the Store.<br>\ndevice - The specifications for the device used to access the Store. <br>\ngeoNetwork - This section contains information about the geography of the user. <br>\nsessionId - A unique identifier for this visit to the store.<br>\nsocialEngagementType - Engagement type, either \"Socially Engaged\" or \"Not Socially Engaged\". <br>\ntotals - This section contains aggregate values across the session.<br>\ntrafficSource - This section contains information about the Traffic Source from which the session originated. <br>\nvisitId - An identifier for this session. <br>\nvisitNumber - The session number for this user. If this is the first session, then this is set to 1.<br>\nvisitStartTime - The timestamp (expressed as POSIX time).<br>\n"
    },
    {
      "metadata": {
        "_uuid": "d82c983e25b273e53e75d56699a051f5010cd34f"
      },
      "cell_type": "markdown",
      "source": "### Processing JSON data.\nFrom data description we can see that following columns 'device', 'geoNetwork', 'totals' and 'trafficSource' contains data in JSON format. \nJSON library can parse JSON data into string or files. The library parse data into python dictionary or strings. \n"
    },
    {
      "metadata": {
        "trusted": true,
        "_uuid": "1a153f99525fd79486a9ea02261ab961603820e9"
      },
      "cell_type": "code",
      "source": "# Create new dataframes from JSON fields\n\ndevice_df = df.device.apply(json.loads).values.tolist()\ndevice_df = pd.DataFrame.from_records(device_df)\n\ngeoNetwork_df = df.geoNetwork.apply(json.loads).values.tolist()\ngeoNetwork_df = pd.DataFrame.from_records(geoNetwork_df)\n\ntotals_df = df.totals.apply(json.loads).values.tolist()\ntotals_df = pd.DataFrame.from_records(totals_df)\n\ntrafficSource_df = df.trafficSource.apply(json.loads).values.tolist()\ntrafficSource_df = pd.DataFrame.from_records(trafficSource_df)\n",
      "execution_count": 54,
      "outputs": []
    },
    {
      "metadata": {
        "_uuid": "d0b1462105c2015f9cb11f43c40da518ac5e19eb"
      },
      "cell_type": "markdown",
      "source": "Drop 'device', 'geoNetwork', 'totals', 'trafficSource' columns from original datset. \nMerge main and parsed dataset. "
    },
    {
      "metadata": {
        "trusted": true,
        "_uuid": "1463cd62c2d7a7d3fdf31c9ca42d5565ed4af9f6"
      },
      "cell_type": "code",
      "source": "df.drop(['device', 'geoNetwork', 'totals', 'trafficSource'], axis=1, inplace=True)\ndf = pd.concat([df, geoNetwork_df, device_df, totals_df, trafficSource_df], axis=1)",
      "execution_count": 55,
      "outputs": []
    },
    {
      "metadata": {
        "trusted": true,
        "_uuid": "372d4716a905428d9c3014c566f0fce4585d270b"
      },
      "cell_type": "code",
      "source": "df.head()",
      "execution_count": 56,
      "outputs": [
        {
          "output_type": "execute_result",
          "execution_count": 56,
          "data": {
            "text/plain": "  channelGrouping      date   ...   referralPath  source\n0  Organic Search  20160902   ...            NaN  google\n1  Organic Search  20160902   ...            NaN  google\n2  Organic Search  20160902   ...            NaN  google\n3  Organic Search  20160902   ...            NaN  google\n4  Organic Search  20160902   ...            NaN  google\n\n[5 rows x 50 columns]",
            "text/html": "<div>\n<style scoped>\n    .dataframe tbody tr th:only-of-type {\n        vertical-align: middle;\n    }\n\n    .dataframe tbody tr th {\n        vertical-align: top;\n    }\n\n    .dataframe thead th {\n        text-align: right;\n    }\n</style>\n<table border=\"1\" class=\"dataframe\">\n  <thead>\n    <tr style=\"text-align: right;\">\n      <th></th>\n      <th>channelGrouping</th>\n      <th>date</th>\n      <th>fullVisitorId</th>\n      <th>sessionId</th>\n      <th>socialEngagementType</th>\n      <th>visitId</th>\n      <th>visitNumber</th>\n      <th>visitStartTime</th>\n      <th>city</th>\n      <th>cityId</th>\n      <th>continent</th>\n      <th>country</th>\n      <th>latitude</th>\n      <th>longitude</th>\n      <th>metro</th>\n      <th>networkDomain</th>\n      <th>networkLocation</th>\n      <th>region</th>\n      <th>subContinent</th>\n      <th>browser</th>\n      <th>browserSize</th>\n      <th>browserVersion</th>\n      <th>deviceCategory</th>\n      <th>flashVersion</th>\n      <th>isMobile</th>\n      <th>language</th>\n      <th>mobileDeviceBranding</th>\n      <th>mobileDeviceInfo</th>\n      <th>mobileDeviceMarketingName</th>\n      <th>mobileDeviceModel</th>\n      <th>mobileInputSelector</th>\n      <th>operatingSystem</th>\n      <th>operatingSystemVersion</th>\n      <th>screenColors</th>\n      <th>screenResolution</th>\n      <th>bounces</th>\n      <th>hits</th>\n      <th>newVisits</th>\n      <th>pageviews</th>\n      <th>transactionRevenue</th>\n      <th>visits</th>\n      <th>adContent</th>\n      <th>adwordsClickInfo</th>\n      <th>campaign</th>\n      <th>campaignCode</th>\n      <th>isTrueDirect</th>\n      <th>keyword</th>\n      <th>medium</th>\n      <th>referralPath</th>\n      <th>source</th>\n    </tr>\n  </thead>\n  <tbody>\n    <tr>\n      <th>0</th>\n      <td>Organic Search</td>\n      <td>20160902</td>\n      <td>1131660440785968503</td>\n      <td>1131660440785968503_1472830385</td>\n      <td>Not Socially Engaged</td>\n      <td>1472830385</td>\n      <td>1</td>\n      <td>1472830385</td>\n      <td>Izmir</td>\n      <td>not available in demo dataset</td>\n      <td>Asia</td>\n      <td>Turkey</td>\n      <td>not available in demo dataset</td>\n      <td>not available in demo dataset</td>\n      <td>(not set)</td>\n      <td>ttnet.com.tr</td>\n      <td>not available in demo dataset</td>\n      <td>Izmir</td>\n      <td>Western Asia</td>\n      <td>Chrome</td>\n      <td>not available in demo dataset</td>\n      <td>not available in demo dataset</td>\n      <td>desktop</td>\n      <td>not available in demo dataset</td>\n      <td>False</td>\n      <td>not available in demo dataset</td>\n      <td>not available in demo dataset</td>\n      <td>not available in demo dataset</td>\n      <td>not available in demo dataset</td>\n      <td>not available in demo dataset</td>\n      <td>not available in demo dataset</td>\n      <td>Windows</td>\n      <td>not available in demo dataset</td>\n      <td>not available in demo dataset</td>\n      <td>not available in demo dataset</td>\n      <td>1</td>\n      <td>1</td>\n      <td>1</td>\n      <td>1</td>\n      <td>NaN</td>\n      <td>1</td>\n      <td>NaN</td>\n      <td>{'criteriaParameters': 'not available in demo ...</td>\n      <td>(not set)</td>\n      <td>NaN</td>\n      <td>NaN</td>\n      <td>(not provided)</td>\n      <td>organic</td>\n      <td>NaN</td>\n      <td>google</td>\n    </tr>\n    <tr>\n      <th>1</th>\n      <td>Organic Search</td>\n      <td>20160902</td>\n      <td>377306020877927890</td>\n      <td>377306020877927890_1472880147</td>\n      <td>Not Socially Engaged</td>\n      <td>1472880147</td>\n      <td>1</td>\n      <td>1472880147</td>\n      <td>not available in demo dataset</td>\n      <td>not available in demo dataset</td>\n      <td>Oceania</td>\n      <td>Australia</td>\n      <td>not available in demo dataset</td>\n      <td>not available in demo dataset</td>\n      <td>not available in demo dataset</td>\n      <td>dodo.net.au</td>\n      <td>not available in demo dataset</td>\n      <td>not available in demo dataset</td>\n      <td>Australasia</td>\n      <td>Firefox</td>\n      <td>not available in demo dataset</td>\n      <td>not available in demo dataset</td>\n      <td>desktop</td>\n      <td>not available in demo dataset</td>\n      <td>False</td>\n      <td>not available in demo dataset</td>\n      <td>not available in demo dataset</td>\n      <td>not available in demo dataset</td>\n      <td>not available in demo dataset</td>\n      <td>not available in demo dataset</td>\n      <td>not available in demo dataset</td>\n      <td>Macintosh</td>\n      <td>not available in demo dataset</td>\n      <td>not available in demo dataset</td>\n      <td>not available in demo dataset</td>\n      <td>1</td>\n      <td>1</td>\n      <td>1</td>\n      <td>1</td>\n      <td>NaN</td>\n      <td>1</td>\n      <td>NaN</td>\n      <td>{'criteriaParameters': 'not available in demo ...</td>\n      <td>(not set)</td>\n      <td>NaN</td>\n      <td>NaN</td>\n      <td>(not provided)</td>\n      <td>organic</td>\n      <td>NaN</td>\n      <td>google</td>\n    </tr>\n    <tr>\n      <th>2</th>\n      <td>Organic Search</td>\n      <td>20160902</td>\n      <td>3895546263509774583</td>\n      <td>3895546263509774583_1472865386</td>\n      <td>Not Socially Engaged</td>\n      <td>1472865386</td>\n      <td>1</td>\n      <td>1472865386</td>\n      <td>Madrid</td>\n      <td>not available in demo dataset</td>\n      <td>Europe</td>\n      <td>Spain</td>\n      <td>not available in demo dataset</td>\n      <td>not available in demo dataset</td>\n      <td>(not set)</td>\n      <td>unknown.unknown</td>\n      <td>not available in demo dataset</td>\n      <td>Community of Madrid</td>\n      <td>Southern Europe</td>\n      <td>Chrome</td>\n      <td>not available in demo dataset</td>\n      <td>not available in demo dataset</td>\n      <td>desktop</td>\n      <td>not available in demo dataset</td>\n      <td>False</td>\n      <td>not available in demo dataset</td>\n      <td>not available in demo dataset</td>\n      <td>not available in demo dataset</td>\n      <td>not available in demo dataset</td>\n      <td>not available in demo dataset</td>\n      <td>not available in demo dataset</td>\n      <td>Windows</td>\n      <td>not available in demo dataset</td>\n      <td>not available in demo dataset</td>\n      <td>not available in demo dataset</td>\n      <td>1</td>\n      <td>1</td>\n      <td>1</td>\n      <td>1</td>\n      <td>NaN</td>\n      <td>1</td>\n      <td>NaN</td>\n      <td>{'criteriaParameters': 'not available in demo ...</td>\n      <td>(not set)</td>\n      <td>NaN</td>\n      <td>NaN</td>\n      <td>(not provided)</td>\n      <td>organic</td>\n      <td>NaN</td>\n      <td>google</td>\n    </tr>\n    <tr>\n      <th>3</th>\n      <td>Organic Search</td>\n      <td>20160902</td>\n      <td>4763447161404445595</td>\n      <td>4763447161404445595_1472881213</td>\n      <td>Not Socially Engaged</td>\n      <td>1472881213</td>\n      <td>1</td>\n      <td>1472881213</td>\n      <td>not available in demo dataset</td>\n      <td>not available in demo dataset</td>\n      <td>Asia</td>\n      <td>Indonesia</td>\n      <td>not available in demo dataset</td>\n      <td>not available in demo dataset</td>\n      <td>not available in demo dataset</td>\n      <td>unknown.unknown</td>\n      <td>not available in demo dataset</td>\n      <td>not available in demo dataset</td>\n      <td>Southeast Asia</td>\n      <td>UC Browser</td>\n      <td>not available in demo dataset</td>\n      <td>not available in demo dataset</td>\n      <td>desktop</td>\n      <td>not available in demo dataset</td>\n      <td>False</td>\n      <td>not available in demo dataset</td>\n      <td>not available in demo dataset</td>\n      <td>not available in demo dataset</td>\n      <td>not available in demo dataset</td>\n      <td>not available in demo dataset</td>\n      <td>not available in demo dataset</td>\n      <td>Linux</td>\n      <td>not available in demo dataset</td>\n      <td>not available in demo dataset</td>\n      <td>not available in demo dataset</td>\n      <td>1</td>\n      <td>1</td>\n      <td>1</td>\n      <td>1</td>\n      <td>NaN</td>\n      <td>1</td>\n      <td>NaN</td>\n      <td>{'criteriaParameters': 'not available in demo ...</td>\n      <td>(not set)</td>\n      <td>NaN</td>\n      <td>NaN</td>\n      <td>google + online</td>\n      <td>organic</td>\n      <td>NaN</td>\n      <td>google</td>\n    </tr>\n    <tr>\n      <th>4</th>\n      <td>Organic Search</td>\n      <td>20160902</td>\n      <td>27294437909732085</td>\n      <td>27294437909732085_1472822600</td>\n      <td>Not Socially Engaged</td>\n      <td>1472822600</td>\n      <td>2</td>\n      <td>1472822600</td>\n      <td>not available in demo dataset</td>\n      <td>not available in demo dataset</td>\n      <td>Europe</td>\n      <td>United Kingdom</td>\n      <td>not available in demo dataset</td>\n      <td>not available in demo dataset</td>\n      <td>not available in demo dataset</td>\n      <td>unknown.unknown</td>\n      <td>not available in demo dataset</td>\n      <td>not available in demo dataset</td>\n      <td>Northern Europe</td>\n      <td>Chrome</td>\n      <td>not available in demo dataset</td>\n      <td>not available in demo dataset</td>\n      <td>mobile</td>\n      <td>not available in demo dataset</td>\n      <td>True</td>\n      <td>not available in demo dataset</td>\n      <td>not available in demo dataset</td>\n      <td>not available in demo dataset</td>\n      <td>not available in demo dataset</td>\n      <td>not available in demo dataset</td>\n      <td>not available in demo dataset</td>\n      <td>Android</td>\n      <td>not available in demo dataset</td>\n      <td>not available in demo dataset</td>\n      <td>not available in demo dataset</td>\n      <td>1</td>\n      <td>1</td>\n      <td>NaN</td>\n      <td>1</td>\n      <td>NaN</td>\n      <td>1</td>\n      <td>NaN</td>\n      <td>{'criteriaParameters': 'not available in demo ...</td>\n      <td>(not set)</td>\n      <td>NaN</td>\n      <td>True</td>\n      <td>(not provided)</td>\n      <td>organic</td>\n      <td>NaN</td>\n      <td>google</td>\n    </tr>\n  </tbody>\n</table>\n</div>"
          },
          "metadata": {}
        }
      ]
    },
    {
      "metadata": {
        "trusted": true,
        "_uuid": "c5010569922d438a2c8c259d773c2cea95c91250"
      },
      "cell_type": "code",
      "source": "df.info()",
      "execution_count": 57,
      "outputs": [
        {
          "output_type": "stream",
          "text": "<class 'pandas.core.frame.DataFrame'>\nRangeIndex: 903653 entries, 0 to 903652\nData columns (total 50 columns):\nchannelGrouping              903653 non-null object\ndate                         903653 non-null int64\nfullVisitorId                903653 non-null object\nsessionId                    903653 non-null object\nsocialEngagementType         903653 non-null object\nvisitId                      903653 non-null int64\nvisitNumber                  903653 non-null int64\nvisitStartTime               903653 non-null int64\ncity                         903653 non-null object\ncityId                       903653 non-null object\ncontinent                    903653 non-null object\ncountry                      903653 non-null object\nlatitude                     903653 non-null object\nlongitude                    903653 non-null object\nmetro                        903653 non-null object\nnetworkDomain                903653 non-null object\nnetworkLocation              903653 non-null object\nregion                       903653 non-null object\nsubContinent                 903653 non-null object\nbrowser                      903653 non-null object\nbrowserSize                  903653 non-null object\nbrowserVersion               903653 non-null object\ndeviceCategory               903653 non-null object\nflashVersion                 903653 non-null object\nisMobile                     903653 non-null bool\nlanguage                     903653 non-null object\nmobileDeviceBranding         903653 non-null object\nmobileDeviceInfo             903653 non-null object\nmobileDeviceMarketingName    903653 non-null object\nmobileDeviceModel            903653 non-null object\nmobileInputSelector          903653 non-null object\noperatingSystem              903653 non-null object\noperatingSystemVersion       903653 non-null object\nscreenColors                 903653 non-null object\nscreenResolution             903653 non-null object\nbounces                      450630 non-null object\nhits                         903653 non-null object\nnewVisits                    703060 non-null object\npageviews                    903553 non-null object\ntransactionRevenue           11515 non-null object\nvisits                       903653 non-null object\nadContent                    10946 non-null object\nadwordsClickInfo             903653 non-null object\ncampaign                     903653 non-null object\ncampaignCode                 1 non-null object\nisTrueDirect                 274005 non-null object\nkeyword                      400724 non-null object\nmedium                       903653 non-null object\nreferralPath                 330941 non-null object\nsource                       903653 non-null object\ndtypes: bool(1), int64(4), object(45)\nmemory usage: 338.7+ MB\n",
          "name": "stdout"
        }
      ]
    },
    {
      "metadata": {
        "trusted": true,
        "_uuid": "2a4abf8e9c3651823ee6a1ff7286c771d941851d"
      },
      "cell_type": "markdown",
      "source": "Check for null values acrocss each column and sum the total number of null values. "
    },
    {
      "metadata": {
        "trusted": true,
        "_uuid": "380f2d68628ad07063a1371ed43575fbac3371db"
      },
      "cell_type": "code",
      "source": "df.isnull().sum(axis = 0)\n#print(df.dtypes)",
      "execution_count": 60,
      "outputs": [
        {
          "output_type": "execute_result",
          "execution_count": 60,
          "data": {
            "text/plain": "channelGrouping                   0\ndate                              0\nfullVisitorId                     0\nsessionId                         0\nsocialEngagementType              0\nvisitId                           0\nvisitNumber                       0\nvisitStartTime                    0\ncity                              0\ncityId                            0\ncontinent                         0\ncountry                           0\nlatitude                          0\nlongitude                         0\nmetro                             0\nnetworkDomain                     0\nnetworkLocation                   0\nregion                            0\nsubContinent                      0\nbrowser                           0\nbrowserSize                       0\nbrowserVersion                    0\ndeviceCategory                    0\nflashVersion                      0\nisMobile                          0\nlanguage                          0\nmobileDeviceBranding              0\nmobileDeviceInfo                  0\nmobileDeviceMarketingName         0\nmobileDeviceModel                 0\nmobileInputSelector               0\noperatingSystem                   0\noperatingSystemVersion            0\nscreenColors                      0\nscreenResolution                  0\nbounces                      453023\nhits                              0\nnewVisits                    200593\npageviews                       100\ntransactionRevenue           892138\nvisits                            0\nadContent                    892707\nadwordsClickInfo                  0\ncampaign                          0\ncampaignCode                 903652\nisTrueDirect                 629648\nkeyword                      502929\nmedium                            0\nreferralPath                 572712\nsource                            0\ndtype: int64"
          },
          "metadata": {}
        }
      ]
    },
    {
      "metadata": {
        "trusted": true,
        "_uuid": "150931ef7d2696b98b217bb2ecaa69ecdd769ffa"
      },
      "cell_type": "code",
      "source": "df.channelGrouping.unique()",
      "execution_count": 61,
      "outputs": [
        {
          "output_type": "execute_result",
          "execution_count": 61,
          "data": {
            "text/plain": "array(['Organic Search', 'Referral', 'Paid Search', 'Affiliates',\n       'Direct', 'Display', 'Social', '(Other)'], dtype=object)"
          },
          "metadata": {}
        }
      ]
    },
    {
      "metadata": {
        "trusted": true,
        "_uuid": "1b4d1f2e886b1f0c8869fc5dc8df2fafa88d8e71"
      },
      "cell_type": "code",
      "source": "df.fullVisitorId.unique()",
      "execution_count": 62,
      "outputs": [
        {
          "output_type": "execute_result",
          "execution_count": 62,
          "data": {
            "text/plain": "array(['1131660440785968503', '377306020877927890', '3895546263509774583',\n       ..., 5123779100307500332, 7231728964973959842, 5744576632396406899],\n      dtype=object)"
          },
          "metadata": {}
        }
      ]
    },
    {
      "metadata": {
        "_uuid": "9c0083012a1af40198323d46080b072a087bdb13"
      },
      "cell_type": "markdown",
      "source": "## **geoNetworK**:\nIt contains logs of Geographical details of users with 10 attributes.\n<br>\nOne: City – Paris, Dubai, Seattle. <br>\nTwo: City ID – Not available.<br>\nThree: Continent –Asia, Europe, America.<br>\nFour: Country – USA, India, France.<br>\nFive: Latitude – Not Available. <br>\nSix: Longitude – Not Available. <br>\nSeven: Metro – Chicago IL, Las Vegas NV. <br>\nEight: Network Domain – malnet.ru, lumenis.com <br>\nNetwork Location: Not Available. <br>\nNine: Region – Sindh, Karnataka, Moscow. <br>\nTen: subcontinent: South Asia, North Africa. <br>    \n"
    },
    {
      "metadata": {
        "trusted": true,
        "_uuid": "119c6394b05866bff68cafe7aec047a54ee4dd30"
      },
      "cell_type": "code",
      "source": "for col in geoNetwork_df:\n    print (col,geoNetwork_df[col].unique())",
      "execution_count": 63,
      "outputs": [
        {
          "output_type": "stream",
          "text": "city ['Izmir' 'not available in demo dataset' 'Madrid' 'Brisbane' 'Karachi'\n 'Paris' 'Singapore' 'Buenos Aires' '(not set)' 'Bangkok' 'Jakarta'\n 'Bengaluru' 'London' 'Amsterdam' 'Moscow' 'Kolkata' 'Seoul' 'Santiago'\n 'Warsaw' 'Dublin' 'Mexico City' 'Barcelona' 'Sao Paulo' 'Mountain View'\n 'Istanbul' 'Dubai' 'New Delhi' 'Sydney' 'New York' 'Rio de Janeiro'\n 'Hyderabad' 'Toronto' 'Washington' 'Los Angeles' 'Pune' 'San Francisco'\n 'Seattle' 'Palo Alto' 'Santa Clara' 'Mumbai' 'Colombo' 'Rome' 'Chicago'\n 'Nairobi' 'Boston' 'Tel Aviv-Yafo' 'La Victoria' 'Sunnyvale' 'Ann Arbor'\n 'San Jose' 'Austin' 'Pittsburgh' 'Montreal' 'Cupertino' 'Salem'\n 'Ho Chi Minh City' 'Hanoi' 'Tunis' 'Monterrey' 'Ankara' 'Quezon City'\n 'Budapest' 'Minato' 'Dallas' 'Vancouver' 'Kirkland' 'Yokohama'\n 'Stockholm' 'Tigard' 'Fremont' 'Boulder' 'Munich' 'Chennai' 'Kiev'\n 'Houston' 'Hong Kong' 'Prague' 'Frankfurt' 'Atlanta' 'Ostrava' 'Portland'\n 'Hamburg' 'Decin' 'Hradec Kralove' 'Lisbon' 'San Diego' 'Cambridge'\n 'Beijing' 'Melbourne' 'Irvine' 'Milpitas' 'Phoenix' 'South San Francisco'\n 'San Bruno' 'Ningbo' 'Jaipur' 'Kuala Lumpur' 'Indore' 'Columbus' 'Chuo'\n 'Boardman' 'Shinjuku' 'Petaling Jaya' 'Evanston' 'Zagreb' 'Berlin'\n 'Villafranca del Castillo' 'Subang Jaya' 'Richardson' 'Osaka' 'Charlotte'\n 'Oakland' 'Targu Mures' 'Bucharest' 'Tempe' 'Zurich' 'Riyadh' 'Timisoara'\n 'Poznan' 'Bandung' 'Cebu City' 'Bogota' 'Calgary' 'Redwood City' 'Taguig'\n 'Detroit' 'Malaga' 'Perth' 'Lille' 'Montevideo' 'Jacksonville' 'Milan'\n 'Almeria' 'Canterbury' 'Lyon' 'Ridgewood' 'Baku' 'Thai Nguyen'\n 'Quang Ngai' 'Nakhon Pathom' 'Hai Phong' 'Surat' 'Telford' 'Brasilia'\n 'Bursa' 'Ahmedabad' 'Da Nang' 'Curitiba' 'Bien Hoa' 'Las Vegas'\n 'Campinas' 'Casablanca' 'Hua Hin' 'Belo Horizonte' 'Dalat' 'Nha Trang'\n 'Mueang Khon Kaen District' 'Gurgaon' 'Surabaya' 'Vung Tau' 'Belgrade'\n 'Edmonton' 'Oradea' 'Krakow' 'Cairo' 'Santiago de Queretaro' 'Eau Claire'\n 'Amherst' 'Ghent' 'Cluj-Napoca' 'Shanghai' 'Reims' 'Buon Ma Thuot'\n 'Salvador' 'Medellin' 'Oshkosh' 'Guadalajara' 'Makati' 'Adana'\n 'Porto Alegre' 'Mueang Chiang Mai District' 'Hai Duong' 'Jeddah'\n 'Qui Nhon' 'Tbilisi' 'Lagos' 'My Tho' 'Can Tho' 'Eskisehir' 'Bellingham'\n 'Kitchener' 'Zhongli District' 'Bournemouth' 'San Antonio' 'Manchester'\n 'Quebec City' 'Liverpool' 'Athens' 'Dnipro' 'Davao City' 'Bothell'\n 'Mersin' 'Menlo Park' 'Konya' 'San Marcos' 'Bratislava' 'Minneapolis'\n 'Philadelphia' 'Vienna' 'Kampar' 'Indianapolis' 'Bellflower' 'Denver'\n 'Redmond' 'Chambery' 'Riga' 'Bordeaux' 'Jersey City' 'Mississauga'\n 'Chico' 'Orlando' 'Danville' 'Norfolk' 'Oude Meer' 'Chandigarh' 'Alba'\n 'San Mateo' 'Erode' 'Miami' 'Ashburn' 'Seville' 'Geneva' 'Zaragoza'\n 'Chiyoda' 'Auckland' 'Adelaide' 'Ottawa' 'Noida' 'Lahore' 'Antalya'\n 'Glasgow' 'Pozuelo de Alarcon' 'Valencia' 'Saint Petersburg' 'Vilnius'\n 'Omaha' 'Tampa' 'College Park' 'Gothenburg' 'Nashville' 'Salt Lake City'\n 'Dacun Township' 'Pontivy' 'Goose Creek' 'Thessaloniki' 'Abu Dhabi'\n 'Bilbao' 'Louisville' 'Normandy' 'Maracaibo' 'Tirana' 'Alicante'\n 'Brussels' 'Utrecht' 'Santa Monica' 'Raleigh' 'Greer' 'Sacramento'\n 'Marseille' 'Bologna' 'Thornton' 'Faisalabad' 'Thai Binh' 'Pleiku'\n 'Nam Djinh' 'Hoi An' 'Waterloo' 'El Paso' 'Council Bluffs' 'Sandy' 'Hue'\n 'Mueang Songkhla District' 'Cao Lanh' 'Manila' 'Patna' 'Shibuya'\n 'Vladivostok' 'Santiago de Surco' 'Kansas City' 'Almaty'\n 'Mueang Nakhon Ratchasima District' 'Aydin' 'Rockwood' 'La Chorrera'\n 'Lawrence Township' 'East Lansing' 'Fresno' 'Copenhagen' 'The Hague'\n 'Netanya' 'Riverside' 'Tampere' 'Sofia' 'Bellevue' 'Plano' 'Schagen'\n 'Turin' 'Rotterdam' \"'s Hertogenbosch\" 'Smyrna' 'Westlake Village'\n 'Akron' 'Bhubaneswar' 'Kharkiv' 'Odessa' 'Skopje' 'Doha' 'Coffeyville'\n 'Bozeman' 'Sherbrooke' 'Guwahati' 'Salford' 'Furth' 'Hallein' 'St. Louis'\n 'Greystones' 'Birmingham' 'Leusden' 'Greve Strand' 'Saratoga'\n 'Nea Erythraia' 'Vladimir' 'Goiania' 'Kayseri' 'Aberdeen' 'Kovrov'\n 'Bremen' 'Miyazaki' 'Samsun' 'Fortaleza' 'Cork' 'Trabzon' 'Oegstgeest'\n 'Mueang Phitsanulok District' 'Piura' 'Lucknow' 'Aalborg' 'Vinh'\n 'Arequipa' 'Tijuana' \"St. John's\" 'Cordoba' 'Wroclaw' 'McAllen' 'Recife'\n 'Belagavi' 'Hayward' 'Cologne' 'Lexington' 'Breda' 'Toledo' 'Sandton'\n 'Bekasi' 'Sibiu' 'Santa Fe' 'Weingarten' 'Douglasville' 'Helsinki' 'Iasi'\n 'Saint Polten' 'Ribeirao Preto' 'Kuwait City' 'Erzurum' 'Zaventem'\n 'White Plains' 'Union City' 'Pleasanton' 'Roskilde' 'Nice' 'Marlboro'\n 'Leeds' 'Metz' 'Rosario' 'Frederiksberg' 'Kiryat Ono' 'Viby'\n 'Navi Mumbai' 'Cuiaba' 'Mankato' 'Cincinnati' 'Fort Collins' 'Brampton'\n 'Cali' 'Medina' 'Druid Hills' 'Johor Bahru' 'Winnipeg'\n 'Parsippany-Troy Hills' 'Fort Worth' 'Montigny-le-Bretonneux'\n 'Hukou Township' 'Petergof' 'Caracas' 'Katowice' 'Kalamazoo' 'Sakai'\n 'Amberg' 'Farmington Hills' 'Honolulu' 'Minsk' 'Rach Gia' 'Amã' 'Medan'\n 'Kharagpur' 'Brno' 'Lenoir' 'Lake Oswego' 'Baltimore' 'Stuttgart'\n 'Madison' 'Sheffield' 'Barnsley' 'Kosice' 'Shiocton' 'Santa Ana' 'Oslo'\n 'Johnson City' 'Oxford' 'Rexburg' 'Cape Town' 'Mechelen' 'Kochi' 'Tucson'\n 'Gijon' 'Berkeley' 'Gaziantep' 'Whitewater' 'Deva' 'Mar del Plata'\n 'LaFayette' 'Thanh Hoa' 'Springfield' 'Nanded' 'Coimbatore' 'Islamabad'\n 'Bruges' 'Los Gatos' 'Kortrijk' 'Campbell' 'Spaichingen' 'Ljubljana'\n 'Memphis' 'Piscataway Township' 'Gatineau' 'Lehi' 'Taoyuan District'\n 'Hermosillo' 'Burnaby' 'Manaus' 'Amersfoort' 'Dusseldorf' 'Fukui'\n 'Montreuil' 'Vannes' 'Phan Thiet' 'Birkenes' 'Dundalk' 'Zhudong Township'\n 'Barrie' 'Courbevoie' 'Shah Alam' 'Okemos' 'Sabadell' 'Nottingham'\n 'Odense' 'Arnhem' 'Minxiong Township' 'Appleton' 'Makassar' 'Olomouc'\n 'Columbia' 'Vincennes' 'Cyberjaya' 'Tallahassee' 'Dahlonega' 'Anaheim'\n 'Ludhiana' 'Pinamar' 'Vejle' 'Naples' 'Saint Paul' 'Wellesley' 'Daegu'\n 'Seclin' 'Fareham' 'Orem' 'Sharjah' 'Molesey' 'Longtan District' 'Beirut'\n 'Rishon LeTsiyon' 'Wollongong' 'Deep River' 'Leon' 'University Park'\n 'Brest' 'Kyiv' 'Cabimas' 'South El Monte' 'North Attleborough'\n 'Wellington' 'Cancun' 'Stanford' 'Coventry' 'Ramat Gan' 'Alba Iulia'\n 'Pasig' 'Esbjerg' 'The Dalles' 'Forest Park' 'San Carlos' 'Oviedo'\n 'Edison' 'Newark' 'Florianopolis' 'Camden' 'Tallinn' 'Ulaanbaatar'\n 'Carrollton' 'North Richland Hills' 'Lewisville' 'Salzburg' 'Seongnam-si'\n 'Avon' 'Rzeszow' 'Wheaton' 'Hamden' 'Newtonville' 'Sant Cugat del Valles'\n 'Chevilly Larue' 'Zaoqiao Township' 'Woodbridge Township'\n \"Villeneuve-d'Ascq\" 'Kumamoto' 'Guatemala City' 'Quimper' 'Szczecin'\n 'Cardiff' 'Pueblo' 'Charlottetown' 'Barranquilla' 'Lviv' 'Pryor' 'Thane'\n 'Depok' 'Neipu Township' 'Culiacan' 'Syracuse' 'Bath' 'Boise'\n 'Luxembourg City' 'Atibaia' 'Vila Velha' 'San Salvador' 'Towson'\n 'Antwerp' 'Aalen' 'Pescara' 'Daly City' 'Toufen City' 'Wrexham' 'Naha'\n \"Saint-Ouen-l'Aumone\" 'Ciudad Real' 'Dhaka' 'Byron'\n 'Allendale Charter Township' 'Egham' 'Redondo Beach' 'Leiria'\n 'Miami Beach' 'Collegeville' 'Oneonta' 'Padua' 'Nantes' 'Villanova'\n 'Chamblee' 'Brookline' 'Koszalin' 'Vadodara' 'Semarang' 'Ha Tinh'\n 'Alexandria' 'New Westminster' 'Parma' 'Quito' 'Sapporo' 'Culpeper'\n 'Overland Park' 'Charlottesville' 'Burlington' 'Sandy Springs'\n 'Clermont-Ferrand' 'Ipoh' 'Nagoya' 'Asuncion' 'Paradise' 'Talence'\n 'Pessac' 'Zamudio' 'Cagliari' 'Chisinau' 'Elche' 'Altrincham' 'Atwater'\n 'Walnut Creek' 'Herzliya' 'Evans' 'Milwaukee' 'Lincoln' 'Eindhoven'\n 'Granada' 'Watford' 'Laguna Beach' 'Wheeling' 'Ballinger' 'Randburg'\n 'New Orleans' 'Groningen' 'Hangzhou' 'Faro' 'Issy-les-Moulineaux' 'Chino'\n 'Zapopan' 'Lausanne' 'Guangzhou' 'Nuremberg' 'Osijek' 'Prato'\n 'Valparaiso' 'Phnom Penh' 'Zwolle' 'Westville' 'Annecy-le-Vieux' 'Nagano'\n 'Muntinlupa' 'Bristol' 'Leuven' 'Panama City']\ncityId ['not available in demo dataset']\ncontinent ['Asia' 'Oceania' 'Europe' 'Americas' 'Africa' '(not set)']\ncountry ['Turkey' 'Australia' 'Spain' 'Indonesia' 'United Kingdom' 'Italy'\n 'Pakistan' 'Austria' 'Netherlands' 'India' 'France' 'Brazil' 'China'\n 'Singapore' 'Argentina' 'Poland' 'Germany' 'Canada' 'Thailand' 'Hungary'\n 'Malaysia' 'Denmark' 'Taiwan' 'Russia' 'Nigeria' 'Belgium' 'South Korea'\n 'Chile' 'Ireland' 'Philippines' 'Greece' 'Mexico' 'Montenegro'\n 'United States' 'Bangladesh' 'Japan' 'Slovenia' 'Czechia' 'Sweden'\n 'United Arab Emirates' 'Switzerland' 'Portugal' 'Peru' 'Hong Kong'\n 'Vietnam' 'Sri Lanka' 'Serbia' 'Norway' 'Romania' 'Kenya' 'Ukraine'\n 'Israel' 'Slovakia' '(not set)' 'Lithuania' 'Puerto Rico'\n 'Bosnia & Herzegovina' 'Croatia' 'South Africa' 'Paraguay' 'Botswana'\n 'Colombia' 'Uruguay' 'Algeria' 'Finland' 'Guatemala' 'Egypt' 'Malta'\n 'Bulgaria' 'New Zealand' 'Kuwait' 'Uzbekistan' 'Saudi Arabia' 'Cyprus'\n 'Estonia' 'Côte d’Ivoire' 'Morocco' 'Tunisia' 'Venezuela'\n 'Dominican Republic' 'Senegal' 'Cape Verde' 'Costa Rica' 'Kazakhstan'\n 'Macedonia (FYROM)' 'Oman' 'Laos' 'Ethiopia' 'Panama' 'Belarus'\n 'Myanmar (Burma)' 'Moldova' 'Zimbabwe' 'Bahrain' 'Mongolia' 'Ghana'\n 'Albania' 'Kosovo' 'Georgia' 'Tanzania' 'Bolivia' 'Cambodia'\n 'Turks & Caicos Islands' 'Iraq' 'Jordan' 'Lebanon' 'Ecuador' 'Madagascar'\n 'Togo' 'Gambia' 'Jamaica' 'Trinidad & Tobago' 'Mauritius' 'Libya'\n 'Mauritania' 'El Salvador' 'Azerbaijan' 'Nicaragua' 'Palestine' 'Réunion'\n 'Iceland' 'Greenland' 'Armenia' 'Haiti' 'Uganda' 'Qatar'\n 'St. Kitts & Nevis' 'Somalia' 'Cameroon' 'Namibia' 'Latvia'\n 'Congo - Kinshasa' 'New Caledonia' 'Rwanda' 'Kyrgyzstan' 'Honduras'\n 'Nepal' 'Benin' 'Luxembourg' 'Guinea' 'Belize' 'Guinea-Bissau' 'Sudan'\n 'Yemen' 'Gabon' 'Maldives' 'Mozambique' 'French Guiana' 'Zambia' 'Macau'\n 'Tajikistan' 'Angola' 'Guadeloupe' 'Martinique' 'Brunei' 'Guyana'\n 'St. Lucia' 'Iran' 'Monaco' 'Swaziland' 'Curaçao' 'Bermuda' 'Guernsey'\n 'Afghanistan' 'Northern Mariana Islands' 'Guam' 'Antigua & Barbuda'\n 'Sint Maarten' 'Andorra' 'St. Vincent & Grenadines' 'Fiji' 'Mali'\n 'Papua New Guinea' 'Jersey' 'Faroe Islands' 'Cayman Islands' 'Chad'\n 'French Polynesia' 'Malawi' 'Suriname' 'Barbados' 'U.S. Virgin Islands'\n 'Djibouti' 'Mayotte' 'Aruba' 'Lesotho' 'Equatorial Guinea' 'Burkina Faso'\n 'Grenada' 'Norfolk Island' 'Isle of Man' 'Liechtenstein' 'Vanuatu'\n 'Sierra Leone' 'Bahamas' 'Åland Islands' 'St. Pierre & Miquelon'\n 'Gibraltar' 'British Virgin Islands' 'Burundi' 'Turkmenistan' 'Niger'\n 'Samoa' 'Timor-Leste' 'Syria' 'Comoros' 'Liberia' 'Bhutan' 'Cook Islands'\n 'American Samoa' 'Dominica' 'Anguilla' 'Caribbean Netherlands'\n 'Marshall Islands' 'Congo - Brazzaville' 'Seychelles' 'San Marino'\n 'Central African Republic' 'St. Martin' 'São Tomé & Príncipe' 'Eritrea'\n 'St. Barthélemy']\n",
          "name": "stdout"
        },
        {
          "output_type": "stream",
          "text": "latitude ['not available in demo dataset']\nlongitude ['not available in demo dataset']\nmetro ['(not set)' 'not available in demo dataset' 'London'\n 'San Francisco-Oakland-San Jose CA' 'New York NY'\n 'Washington DC (Hagerstown MD)' 'Los Angeles CA' 'Seattle-Tacoma WA'\n 'Chicago IL' 'Boston MA-Manchester NH' 'Detroit MI' 'Austin TX'\n 'Pittsburgh PA' 'Roanoke-Lynchburg VA' 'Dallas-Ft. Worth TX'\n 'Portland OR' 'Denver CO' 'Houston TX' 'Atlanta GA' 'San Diego CA'\n 'Phoenix AZ' 'Columbus OH' 'Charlotte NC' 'Jacksonville FL'\n 'Meridian (exc. Channel Islands)' 'Midlands' 'Las Vegas NV'\n 'La Crosse-Eau Claire WI' 'Springfield-Holyoke MA'\n 'Green Bay-Appleton WI' 'San Antonio TX' 'North West'\n 'Minneapolis-St. Paul MN' 'Philadelphia PA' 'Indianapolis IN'\n 'Chico-Redding CA' 'Orlando-Daytona Beach-Melbourne FL'\n 'Norfolk-Portsmouth-Newport News VA' 'Miami-Ft. Lauderdale FL' 'JP_KANTO'\n 'Central Scotland' 'Omaha NE' 'Tampa-St. Petersburg (Sarasota) FL'\n 'Nashville TN' 'Salt Lake City UT' 'Charleston SC' 'Louisville KY'\n 'St. Louis MO' 'Raleigh-Durham (Fayetteville) NC'\n 'Greenville-Spartanburg-Asheville-Anderson'\n 'Sacramento-Stockton-Modesto CA' 'El Paso TX' 'Kansas City MO'\n 'Lansing MI' 'Fresno-Visalia CA' 'Cleveland-Akron (Canton) OH' 'Tulsa OK'\n 'Butte-Bozeman MT' 'North Scotland'\n 'Harlingen-Weslaco-Brownsville-McAllen TX' 'Lexington KY' 'Yorkshire'\n 'Mankato MN' 'Cincinnati OH' 'Grand Rapids-Kalamazoo-Battle Creek MI'\n 'Honolulu HI' 'Baltimore MD' 'Madison WI' 'Tri-Cities TN-VA'\n 'Idaho Falls-Pocatello ID' 'Tucson (Sierra Vista) AZ' 'Milwaukee WI'\n 'Chattanooga TN' 'Springfield MO' 'Memphis TN' 'JP_KINKI'\n 'Tallahassee FL-Thomasville GA' 'Providence-New Bedford,MA'\n 'Hartford & New Haven CT' 'Albany-Schenectady-Troy NY' 'HTV Wales'\n 'Colorado Springs-Pueblo CO' 'Syracuse NY' 'HTV West' 'Boise ID'\n 'Rochester-Mason City-Austin,IA' 'Utica NY' 'Charlottesville VA'\n 'JP_OTHER' 'Augusta GA' 'Wheeling WV-Steubenville OH'\n 'Abilene-Sweetwater TX' 'New Orleans LA' 'Panama City FL']\nnetworkDomain ['ttnet.com.tr' 'dodo.net.au' 'unknown.unknown' ... 'lumenis.com'\n 'malnet.ru' 'xpressgt.co.za']\nnetworkLocation ['not available in demo dataset']\nregion ['Izmir' 'not available in demo dataset' 'Community of Madrid'\n 'Queensland' 'Sindh' 'Ile-de-France' '(not set)' 'Buenos Aires' 'Bangkok'\n 'Jakarta' 'Karnataka' 'England' 'North Holland' 'Moscow' 'West Bengal'\n 'Seoul' 'Santiago Metropolitan Region' 'Masovian Voivodeship'\n 'Dublin City' 'Mexico City' 'Catalonia' 'State of Sao Paulo' 'California'\n 'Istanbul' 'Dubai' 'Delhi' 'New South Wales' 'New York'\n 'State of Rio de Janeiro' 'Telangana' 'Ontario' 'District of Columbia'\n 'Maharashtra' 'Washington' 'Lazio' 'Illinois' 'Massachusetts'\n 'Tel Aviv District' 'Lima Region' 'Michigan' 'Taipei City' 'Texas'\n 'Pennsylvania' 'Quebec' 'Virginia' 'Ho Chi Minh' 'Hanoi' 'Nuevo Leon'\n 'Ankara' 'Metro Manila' 'Budapest' 'Tokyo' 'British Columbia'\n 'Kanagawa Prefecture' 'County Dublin' 'Stockholm County' 'Oregon'\n 'Colorado' 'Bavaria' 'Tamil Nadu' 'Kyiv city' 'Prague' 'Hesse' 'Georgia'\n 'Moravian-Silesian Region' 'Dhaka Division' 'Hamburg'\n 'Usti nad Labem Region' 'Hradec Kralove Region' 'Lisbon' 'Beijing'\n 'Victoria' 'Arizona' 'Zhejiang' 'Rajasthan'\n 'Federal Territory of Kuala Lumpur' 'Madhya Pradesh' 'Ohio' 'Selangor'\n 'City of Zagreb' 'Berlin' 'Osaka Prefecture' 'North Carolina'\n 'Mures County' 'Bucharest' 'Zurich' 'Riyadh Province' 'Timis County'\n 'Greater Poland Voivodeship' 'West Java' 'Central Visayas' 'Bogota'\n 'Alberta' 'Andalusia' 'Nevada' 'Western Australia' 'Hauts-de-France'\n 'Florida' 'Lombardy' 'Auvergne-Rhone-Alpes' 'New Taipei City'\n 'New Jersey' 'Thai Nguyen' 'Quang Ngai' 'Nakhon Pathom' 'Haiphong'\n 'Chon Buri' 'Gujarat' 'Phra Nakhon Si Ayutthaya' 'Federal District'\n 'Bursa' 'Nakhon Sawan' 'Da Nang' 'State of Parana' 'Dong Nai' 'Rayong'\n 'Grand Casablanca' 'Nakhon Ratchasima' 'Prachuap Khiri Khan'\n 'State of Minas Gerais' 'Lam Djong' 'Khanh Hoa Province' 'Khon Kaen'\n 'Haryana' 'East Java' 'Ba Ria - Vung Tau' 'Chiang Mai' 'Bihor County'\n 'Lesser Poland Voivodeship' 'Cairo Governorate' 'Queretaro' 'Wisconsin'\n 'Flanders' 'Cluj County' 'Shanghai' 'Grand Est' 'Djak Lak Province'\n 'State of Bahia' 'Antioquia' 'Castile-La Mancha' 'Udon Thani' 'Adana'\n 'State of Rio Grande do Sul' 'Surat Thani' 'Songkhla' 'Hai Duong'\n 'Makkah Province' 'Binh Dinh Province' 'Tbilisi' 'Lagos' 'Bac Giang'\n 'Bac Ninh Province' 'Tien Giang' 'Can Tho' 'Eskisehir Province'\n 'Taoyuan County' 'Attica' 'Dnipropetrovsk Oblast' 'Davao Region'\n 'Mersin Province' 'Konya' 'Saraburi' 'Bratislava Region' 'Minnesota'\n 'Vienna' 'Perak' 'Kaohsiung City' 'Indiana' 'Riga' 'Nouvelle-Aquitaine'\n 'Western Province' 'Chandigarh' 'Amman Governorate' 'Piedmont'\n 'Taichung City' 'Jalisco' 'Geneva' 'Aragon' 'Auckland' 'South Australia'\n 'Uttar Pradesh' 'Punjab' 'Antalya' 'Ho Chi Minh City' 'Scotland'\n 'Valencian Community' 'Saint Petersburg' 'Vilnius County' 'Nebraska'\n 'Maryland' 'Vastra Gotaland County' 'Tennessee' 'Utah' 'Changhua County'\n 'Brittany' 'South Carolina' 'Central Macedonia' 'Abu Dhabi'\n 'Basque Country' 'Kentucky' 'Missouri' 'Zulia' 'Brussels' 'Utrecht'\n \"Provence-Alpes-Cote d'Azur\" 'Emilia-Romagna' 'Thai Binh'\n 'Gia Lai Province' 'Nam Dinh' 'Quang Nam Province' 'Iowa'\n 'Thua Thien Hue' 'Djong Thap Province' 'Bihar' 'Primorsky Krai' 'Cusco'\n 'Almaty Province' 'Pathum Thani' 'Aydin Province' 'Panama'\n 'Capital Region of Denmark' 'South Holland' 'Center District'\n 'Ubon Ratchathani' 'Sofia City Province' 'North Brabant' 'Odisha'\n 'Kharkiv Oblast' 'Odessa Oblast' 'Kansas' 'Montana' 'Assam' 'Salzburg'\n 'County Wicklow' 'Region Zealand' 'Vladimir Oblast' 'Doha'\n 'State of Goias' 'State of Mexico' 'Hung Yen Province' 'Kayseri Province'\n 'Binh Phuoc' 'Bremen' 'Miyazaki Prefecture' 'Samsun' 'State of Ceara'\n 'County Cork' 'Chiang Rai' 'Trabzon' 'Phitsanulok' 'Piura'\n 'North Denmark Region' 'Nghe An' 'Arequipa' 'Baja California'\n 'Vinh Phuc Province' 'Phu Tho Province' 'Newfoundland and Labrador'\n 'Cordoba' 'Lower Silesian Voivodeship' 'State of Pernambuco' 'Phuket'\n 'North Rhine-Westphalia' 'Gauteng' 'Sibiu' 'Santa Fe Province'\n 'Baden-Wurttemberg' 'Oran Province' 'Tay Ninh Province' 'Iasi County'\n 'Lower Austria' 'Erzurum' 'Sakon Nakhon' 'Central Denmark Region'\n 'Algiers Province' 'State of Mato Grosso' 'Valle del Cauca'\n 'Al Madinah Province' 'Johor' 'Manitoba' 'Hsinchu County' 'Aquitaine'\n 'Capital District' 'Silesian Voivodeship' 'Fukui Prefecture' 'Hawaii'\n 'Minsk Region' 'Kien Giang' 'North Sumatra' 'South Moravian Region'\n 'Kosice Region' 'La Libertad' 'Oslo' 'Idaho' 'Western Cape' 'Kerala'\n 'Asturias' 'Gaziantep' 'Nairobi County' 'Hunedoara County'\n 'Buenos Aires Province' 'Thanh Hoa' 'Islamabad Capital Territory'\n 'Ljubljana' 'Sonora' 'State of Amazonas' 'Binh Thuan Province'\n 'Aust-Agder' 'Region Syddanmark' 'Gelderland' 'Chiayi County'\n 'South Sulawesi' 'Olomouc Region' 'Puebla' 'Campania' 'Tainan City'\n 'Daegu' 'Nord-Pas-de-Calais' 'Sharjah' 'Beirut Governorate' 'Guanajuato'\n 'Lampang' 'Brest Region' 'Wellington' 'Quintana Roo' 'Alba County'\n 'Lopburi' 'Nakhon Si Thammarat' 'State of Santa Catarina' 'Harju County'\n 'Gyeonggi-do' 'Connecticut' 'Podkarpackie Voivodeship' 'Miaoli County'\n 'Kumamoto Prefecture' 'Guatemala Department'\n 'West Pomeranian Voivodeship' 'Wales' 'Prince Edward Island' 'Atlantico'\n 'Lviv Oblast' 'Oklahoma' 'Special Region of Yogyakarta' 'Maha Sarakham'\n 'Pingtung County' 'Sinaloa' 'State of Espirito Santo'\n 'San Salvador Department' 'Abruzzo' 'Okinawa Prefecture'\n 'Leiria District' 'Veneto' 'Pays de la Loire' 'Central Java'\n 'Ha Tinh Province' 'Alexandria Governorate' 'Pichincha' 'Hokkaido'\n 'County Louth' 'Aichi Prefecture' 'Sardinia' 'West Virginia' 'Louisiana'\n 'Groningen' 'Faro District' 'Vaud' 'Guangdong' 'Osijek-Baranja County'\n 'Tuscany' 'Valparaiso Region' 'Magdalena' 'Phnom Penh' 'Overijssel'\n 'KwaZulu-Natal' 'Rhone-Alpes' 'Nagano Prefecture']\nsubContinent ['Western Asia' 'Australasia' 'Southern Europe' 'Southeast Asia'\n 'Northern Europe' 'Southern Asia' 'Western Europe' 'South America'\n 'Eastern Asia' 'Eastern Europe' 'Northern America' 'Western Africa'\n 'Central America' 'Eastern Africa' '(not set)' 'Caribbean'\n 'Southern Africa' 'Northern Africa' 'Central Asia' 'Middle Africa'\n 'Melanesia' 'Micronesian Region' 'Polynesia']\n",
          "name": "stdout"
        }
      ]
    },
    {
      "metadata": {
        "_uuid": "87edf09e2b1f0964b4d629e1502170e5744ff99f"
      },
      "cell_type": "markdown",
      "source": "## **Device:**\nIt contains logs of electronic device used by use: Attributes are: <br>\nFirst: Browser – Chrome, Opera Mini.<br>\nSecond: BrowserSize – Not Available.<br>\nThird: BrowserVersion : Not Available.<br>\nForth: DeviceCategory: Desktop, mobile, tablet.<br>\nFifth: FlashVersion: Not Available.<br>\nSixth: IsMobile – False, True.<br>\nSeventh: Language – Not Available.<br>\nEighth: mobileDeviceBranding: Not Available.<br>\nNinth: MobileDeviceInfo – Not available.<br>\nTenth: MobileDeviceMarketingName: Not Available<br>\nEleventh : mobileDeviceModel : Not Available <br>\nTwelfth: mobileInputSelector : Not Available <br>\nThirteen: operatingSystem – Windows, Linux. <br>\nFourteen: operatingSystemVersion – Not Available <br>\nFifteen: screenColors – Not Available. <br>\nSixteen: screenResolution – Not available. <br>\n"
    },
    {
      "metadata": {
        "trusted": true,
        "_uuid": "e743b606c74f242ad7d4984e86c72f7209f8c886"
      },
      "cell_type": "code",
      "source": "for col in device_df:\n    print (col,device_df[col].unique())",
      "execution_count": 64,
      "outputs": [
        {
          "output_type": "stream",
          "text": "browser ['Chrome' 'Firefox' 'UC Browser' 'Internet Explorer' 'Safari' 'Edge'\n 'Opera Mini' 'Opera' 'BlackBerry' 'Safari (in-app)' 'Coc Coc'\n 'Mozilla Compatible Agent' 'ADM' 'MRCHROME' 'Amazon Silk' 'YaBrowser'\n 'Android Webview' 'Puffin' 'Nokia Browser' 'Maxthon' 'Nintendo Browser'\n 'Android Browser' 'Lunascape' 'IE with Chrome Frame' 'ThumbSniper'\n 'LYF_LS_4002_12' 'Mozilla' 'osee2unifiedRelease' 'NokiaE52-1' 'Iron'\n '[Use default User-agent string] LIVRENPOCHE' '(not set)'\n 'LYF_LS_4002_11' 'M5' 'Android Runtime' 'Apple-iPhone7C2' 'SeaMonkey'\n 'Konqueror' 'Seznam' 'Changa 99695759' 'no-ua' 'MQQBrowser' 'Nichrome'\n 'HTC802t_TD' 'DASH_JR_3G' 'DoCoMo' 'subjectAgent: NoticiasBoom' 'YE'\n 'User Agent' '0' 'Hisense M20-M_LTE' 'Reddit' 'TCL P500M' 'CSM Click']\nbrowserSize ['not available in demo dataset']\nbrowserVersion ['not available in demo dataset']\ndeviceCategory ['desktop' 'mobile' 'tablet']\nflashVersion ['not available in demo dataset']\nisMobile [False  True]\nlanguage ['not available in demo dataset']\nmobileDeviceBranding ['not available in demo dataset']\nmobileDeviceInfo ['not available in demo dataset']\nmobileDeviceMarketingName ['not available in demo dataset']\nmobileDeviceModel ['not available in demo dataset']\nmobileInputSelector ['not available in demo dataset']\noperatingSystem ['Windows' 'Macintosh' 'Linux' 'Android' 'iOS' 'Chrome OS' 'BlackBerry'\n '(not set)' 'Samsung' 'Windows Phone' 'Xbox' 'Nintendo Wii' 'Firefox OS'\n 'Nintendo WiiU' 'FreeBSD' 'Nokia' 'NTT DoCoMo' 'Nintendo 3DS' 'SunOS'\n 'OpenBSD']\noperatingSystemVersion ['not available in demo dataset']\nscreenColors ['not available in demo dataset']\nscreenResolution ['not available in demo dataset']\n",
          "name": "stdout"
        }
      ]
    },
    {
      "metadata": {
        "trusted": true,
        "_uuid": "e6d8e596f2c057a93fc2ac2c0e6d3735480f1277"
      },
      "cell_type": "code",
      "source": "for col in totals_df:\n    print (col,totals_df[col].unique())",
      "execution_count": 65,
      "outputs": [
        {
          "output_type": "stream",
          "text": "bounces ['1' nan]\nhits ['1' '2' '3' '4' '5' '6' '7' '8' '9' '10' '11' '12' '13' '14' '15' '16'\n '17' '18' '19' '20' '21' '22' '23' '24' '25' '26' '27' '28' '29' '30'\n '31' '32' '33' '34' '35' '36' '37' '38' '39' '41' '42' '43' '44' '45'\n '46' '47' '48' '49' '50' '51' '52' '54' '55' '57' '65' '67' '72' '74'\n '79' '82' '83' '92' '103' '109' '134' '143' '144' '66' '73' '112' '189'\n '62' '63' '81' '91' '102' '161' '40' '86' '99' '61' '69' '80' '89' '100'\n '53' '56' '58' '71' '76' '77' '95' '229' '60' '64' '68' '85' '94' '96'\n '107' '110' '113' '147' '331' '108' '59' '70' '98' '119' '303' '218'\n '146' '75' '78' '93' '101' '149' '106' '114' '156' '138' '141' '175' '88'\n '97' '115' '90' '183' '227' '87' '126' '148' '130' '176' '84' '202' '121'\n '122' '207' '140' '193' '302' '142' '105' '116' '196' '111' '201' '133'\n '159' '117' '131' '150' '168' '311' '249' '127' '137' '500' '155' '118'\n '125' '139' '154' '123' '124' '104' '162' '167' '170' '132' '136' '151'\n '166' '187' '279' '328' '174' '386' '282' '286' '220' '120' '291' '135'\n '163' '273' '292' '224' '242' '145' '181' '185' '257' '165' '250' '357'\n '200' '160' '169' '217' '177' '353' '152' '128' '191' '129' '387' '182'\n '208' '347' '209' '199' '172' '153' '210' '262' '385' '171' '232' '382'\n '378' '215' '307' '226' '276' '157' '213' '471' '233' '301' '333' '192'\n '247' '340' '259' '158' '406' '164' '240' '198' '246' '206' '197' '188'\n '251' '489' '445' '238' '179' '205' '483' '278' '228' '195' '234' '203'\n '283' '261' '243' '268' '180' '178' '194' '258' '239' '204' '216' '361'\n '437' '184' '244' '308' '237']\nnewVisits ['1' nan]\npageviews ['1' '2' '3' '4' '5' '6' '7' '8' '9' '10' '11' '12' '13' '14' '15' '16'\n '17' '18' '20' '19' '21' '25' '22' '26' '23' '24' '30' '27' '29' '28'\n '32' '31' '34' '33' '38' '35' '40' '36' '37' '39' '43' '45' '47' '52'\n '44' '50' '46' '49' '51' '56' '59' '71' '57' '82' '84' '92' '90' '41'\n '79' '138' '48' '69' '112' '42' '65' '60' '63' '68' '58' '74' '165' '53'\n '54' '55' '61' '70' '80' '78' '72' '188' '73' '62' '75' '86' '197' '148'\n '67' '102' '64' '103' '144' nan '81' '119' '104' '128' '87' '111' '66'\n '83' '135' '94' '91' '99' '77' '118' '202' '127' '93' '106' '155' '117'\n '76' '89' '85' '143' '105' '115' '95' '110' '137' '120' '116' '208' '126'\n '400' '101' '108' '333' '97' '96' '98' '125' '113' '327' '154' '121'\n '183' '123' '141' '224' '88' '195' '343' '156' '193' '100' '150' '122'\n '145' '174' '147' '131' '169' '164' '249' '114' '189' '223' '124' '139'\n '341' '469' '309' '162' '146' '270' '107' '153' '233' '161' '179' '129'\n '220' '191' '323' '431' '351' '132' '305' '175' '130' '166' '185' '245'\n '219' '167' '173' '109' '133' '149' '136' '168' '358' '466' '182' '340'\n '215' '142' '275' '134' '196' '324' '300' '190' '176' '210' '201' '232'\n '140' '199' '429' '151' '186']\ntransactionRevenue [nan '37860000' '306670000' ... '335260000' '30750000' '69390000']\nvisits ['1']\n",
          "name": "stdout"
        }
      ]
    },
    {
      "metadata": {
        "trusted": true,
        "_uuid": "17f6d8bf9d1a4901a7b2d7a32a4f7ceb290e5aa9"
      },
      "cell_type": "code",
      "source": "#for col in trafficSource_df:\n #   print (col,trafficSource_df[col].unique())",
      "execution_count": 66,
      "outputs": []
    },
    {
      "metadata": {
        "trusted": true,
        "_uuid": "a2fd094d19aa8df410e57d70602f6721b391ebd6"
      },
      "cell_type": "code",
      "source": "trafficSource_df.head()",
      "execution_count": 67,
      "outputs": [
        {
          "output_type": "execute_result",
          "execution_count": 67,
          "data": {
            "text/plain": "  adContent   ...    source\n0       NaN   ...    google\n1       NaN   ...    google\n2       NaN   ...    google\n3       NaN   ...    google\n4       NaN   ...    google\n\n[5 rows x 9 columns]",
            "text/html": "<div>\n<style scoped>\n    .dataframe tbody tr th:only-of-type {\n        vertical-align: middle;\n    }\n\n    .dataframe tbody tr th {\n        vertical-align: top;\n    }\n\n    .dataframe thead th {\n        text-align: right;\n    }\n</style>\n<table border=\"1\" class=\"dataframe\">\n  <thead>\n    <tr style=\"text-align: right;\">\n      <th></th>\n      <th>adContent</th>\n      <th>adwordsClickInfo</th>\n      <th>campaign</th>\n      <th>campaignCode</th>\n      <th>isTrueDirect</th>\n      <th>keyword</th>\n      <th>medium</th>\n      <th>referralPath</th>\n      <th>source</th>\n    </tr>\n  </thead>\n  <tbody>\n    <tr>\n      <th>0</th>\n      <td>NaN</td>\n      <td>{'criteriaParameters': 'not available in demo ...</td>\n      <td>(not set)</td>\n      <td>NaN</td>\n      <td>NaN</td>\n      <td>(not provided)</td>\n      <td>organic</td>\n      <td>NaN</td>\n      <td>google</td>\n    </tr>\n    <tr>\n      <th>1</th>\n      <td>NaN</td>\n      <td>{'criteriaParameters': 'not available in demo ...</td>\n      <td>(not set)</td>\n      <td>NaN</td>\n      <td>NaN</td>\n      <td>(not provided)</td>\n      <td>organic</td>\n      <td>NaN</td>\n      <td>google</td>\n    </tr>\n    <tr>\n      <th>2</th>\n      <td>NaN</td>\n      <td>{'criteriaParameters': 'not available in demo ...</td>\n      <td>(not set)</td>\n      <td>NaN</td>\n      <td>NaN</td>\n      <td>(not provided)</td>\n      <td>organic</td>\n      <td>NaN</td>\n      <td>google</td>\n    </tr>\n    <tr>\n      <th>3</th>\n      <td>NaN</td>\n      <td>{'criteriaParameters': 'not available in demo ...</td>\n      <td>(not set)</td>\n      <td>NaN</td>\n      <td>NaN</td>\n      <td>google + online</td>\n      <td>organic</td>\n      <td>NaN</td>\n      <td>google</td>\n    </tr>\n    <tr>\n      <th>4</th>\n      <td>NaN</td>\n      <td>{'criteriaParameters': 'not available in demo ...</td>\n      <td>(not set)</td>\n      <td>NaN</td>\n      <td>True</td>\n      <td>(not provided)</td>\n      <td>organic</td>\n      <td>NaN</td>\n      <td>google</td>\n    </tr>\n  </tbody>\n</table>\n</div>"
          },
          "metadata": {}
        }
      ]
    },
    {
      "metadata": {
        "trusted": true,
        "_uuid": "eb567ff15d1a69d6d7a17a217f0193facd389b87"
      },
      "cell_type": "code",
      "source": "trafficSource_df['adwordsClickInfo'].head()",
      "execution_count": 68,
      "outputs": [
        {
          "output_type": "execute_result",
          "execution_count": 68,
          "data": {
            "text/plain": "0    {'criteriaParameters': 'not available in demo ...\n1    {'criteriaParameters': 'not available in demo ...\n2    {'criteriaParameters': 'not available in demo ...\n3    {'criteriaParameters': 'not available in demo ...\n4    {'criteriaParameters': 'not available in demo ...\nName: adwordsClickInfo, dtype: object"
          },
          "metadata": {}
        }
      ]
    },
    {
      "metadata": {
        "_uuid": "cced08feffbd6252c4facdd181937f9497e271f5"
      },
      "cell_type": "raw",
      "source": ""
    },
    {
      "metadata": {
        "trusted": true,
        "_uuid": "5b0901e5945571c7ef7c59aac1838e16dd2c3b56"
      },
      "cell_type": "code",
      "source": "#adwordsClickInfo_df = trafficSource_df.adwordsClickInfo.apply(json.loads).values.tolist()\nadwordsClickInfo_df = pd.DataFrame.from_records(trafficSource_df['adwordsClickInfo'])\nadwordsClickInfo_df.head()",
      "execution_count": 69,
      "outputs": [
        {
          "output_type": "execute_result",
          "execution_count": 69,
          "data": {
            "text/plain": "  adNetworkType        ...        targetingCriteria\n0           NaN        ...                      NaN\n1           NaN        ...                      NaN\n2           NaN        ...                      NaN\n3           NaN        ...                      NaN\n4           NaN        ...                      NaN\n\n[5 rows x 7 columns]",
            "text/html": "<div>\n<style scoped>\n    .dataframe tbody tr th:only-of-type {\n        vertical-align: middle;\n    }\n\n    .dataframe tbody tr th {\n        vertical-align: top;\n    }\n\n    .dataframe thead th {\n        text-align: right;\n    }\n</style>\n<table border=\"1\" class=\"dataframe\">\n  <thead>\n    <tr style=\"text-align: right;\">\n      <th></th>\n      <th>adNetworkType</th>\n      <th>criteriaParameters</th>\n      <th>gclId</th>\n      <th>isVideoAd</th>\n      <th>page</th>\n      <th>slot</th>\n      <th>targetingCriteria</th>\n    </tr>\n  </thead>\n  <tbody>\n    <tr>\n      <th>0</th>\n      <td>NaN</td>\n      <td>not available in demo dataset</td>\n      <td>NaN</td>\n      <td>NaN</td>\n      <td>NaN</td>\n      <td>NaN</td>\n      <td>NaN</td>\n    </tr>\n    <tr>\n      <th>1</th>\n      <td>NaN</td>\n      <td>not available in demo dataset</td>\n      <td>NaN</td>\n      <td>NaN</td>\n      <td>NaN</td>\n      <td>NaN</td>\n      <td>NaN</td>\n    </tr>\n    <tr>\n      <th>2</th>\n      <td>NaN</td>\n      <td>not available in demo dataset</td>\n      <td>NaN</td>\n      <td>NaN</td>\n      <td>NaN</td>\n      <td>NaN</td>\n      <td>NaN</td>\n    </tr>\n    <tr>\n      <th>3</th>\n      <td>NaN</td>\n      <td>not available in demo dataset</td>\n      <td>NaN</td>\n      <td>NaN</td>\n      <td>NaN</td>\n      <td>NaN</td>\n      <td>NaN</td>\n    </tr>\n    <tr>\n      <th>4</th>\n      <td>NaN</td>\n      <td>not available in demo dataset</td>\n      <td>NaN</td>\n      <td>NaN</td>\n      <td>NaN</td>\n      <td>NaN</td>\n      <td>NaN</td>\n    </tr>\n  </tbody>\n</table>\n</div>"
          },
          "metadata": {}
        }
      ]
    },
    {
      "metadata": {
        "_uuid": "b061d2db53a567f4e0f66f91d5cdddf2841e2b67"
      },
      "cell_type": "markdown",
      "source": "## Remove unnecessary columns or colums containing least infomation\nWe can see that some columns contains no usful  infomation, we are going to drop those columns from main dataset.\n"
    },
    {
      "metadata": {
        "trusted": true,
        "_uuid": "070da56ada061e6ab6eaccf0ea62b06ceaed0386"
      },
      "cell_type": "code",
      "source": "df.head()",
      "execution_count": 70,
      "outputs": [
        {
          "output_type": "execute_result",
          "execution_count": 70,
          "data": {
            "text/plain": "  channelGrouping      date   ...   referralPath  source\n0  Organic Search  20160902   ...            NaN  google\n1  Organic Search  20160902   ...            NaN  google\n2  Organic Search  20160902   ...            NaN  google\n3  Organic Search  20160902   ...            NaN  google\n4  Organic Search  20160902   ...            NaN  google\n\n[5 rows x 50 columns]",
            "text/html": "<div>\n<style scoped>\n    .dataframe tbody tr th:only-of-type {\n        vertical-align: middle;\n    }\n\n    .dataframe tbody tr th {\n        vertical-align: top;\n    }\n\n    .dataframe thead th {\n        text-align: right;\n    }\n</style>\n<table border=\"1\" class=\"dataframe\">\n  <thead>\n    <tr style=\"text-align: right;\">\n      <th></th>\n      <th>channelGrouping</th>\n      <th>date</th>\n      <th>fullVisitorId</th>\n      <th>sessionId</th>\n      <th>socialEngagementType</th>\n      <th>visitId</th>\n      <th>visitNumber</th>\n      <th>visitStartTime</th>\n      <th>city</th>\n      <th>cityId</th>\n      <th>continent</th>\n      <th>country</th>\n      <th>latitude</th>\n      <th>longitude</th>\n      <th>metro</th>\n      <th>networkDomain</th>\n      <th>networkLocation</th>\n      <th>region</th>\n      <th>subContinent</th>\n      <th>browser</th>\n      <th>browserSize</th>\n      <th>browserVersion</th>\n      <th>deviceCategory</th>\n      <th>flashVersion</th>\n      <th>isMobile</th>\n      <th>language</th>\n      <th>mobileDeviceBranding</th>\n      <th>mobileDeviceInfo</th>\n      <th>mobileDeviceMarketingName</th>\n      <th>mobileDeviceModel</th>\n      <th>mobileInputSelector</th>\n      <th>operatingSystem</th>\n      <th>operatingSystemVersion</th>\n      <th>screenColors</th>\n      <th>screenResolution</th>\n      <th>bounces</th>\n      <th>hits</th>\n      <th>newVisits</th>\n      <th>pageviews</th>\n      <th>transactionRevenue</th>\n      <th>visits</th>\n      <th>adContent</th>\n      <th>adwordsClickInfo</th>\n      <th>campaign</th>\n      <th>campaignCode</th>\n      <th>isTrueDirect</th>\n      <th>keyword</th>\n      <th>medium</th>\n      <th>referralPath</th>\n      <th>source</th>\n    </tr>\n  </thead>\n  <tbody>\n    <tr>\n      <th>0</th>\n      <td>Organic Search</td>\n      <td>20160902</td>\n      <td>1131660440785968503</td>\n      <td>1131660440785968503_1472830385</td>\n      <td>Not Socially Engaged</td>\n      <td>1472830385</td>\n      <td>1</td>\n      <td>1472830385</td>\n      <td>Izmir</td>\n      <td>not available in demo dataset</td>\n      <td>Asia</td>\n      <td>Turkey</td>\n      <td>not available in demo dataset</td>\n      <td>not available in demo dataset</td>\n      <td>(not set)</td>\n      <td>ttnet.com.tr</td>\n      <td>not available in demo dataset</td>\n      <td>Izmir</td>\n      <td>Western Asia</td>\n      <td>Chrome</td>\n      <td>not available in demo dataset</td>\n      <td>not available in demo dataset</td>\n      <td>desktop</td>\n      <td>not available in demo dataset</td>\n      <td>False</td>\n      <td>not available in demo dataset</td>\n      <td>not available in demo dataset</td>\n      <td>not available in demo dataset</td>\n      <td>not available in demo dataset</td>\n      <td>not available in demo dataset</td>\n      <td>not available in demo dataset</td>\n      <td>Windows</td>\n      <td>not available in demo dataset</td>\n      <td>not available in demo dataset</td>\n      <td>not available in demo dataset</td>\n      <td>1</td>\n      <td>1</td>\n      <td>1</td>\n      <td>1</td>\n      <td>NaN</td>\n      <td>1</td>\n      <td>NaN</td>\n      <td>{'criteriaParameters': 'not available in demo ...</td>\n      <td>(not set)</td>\n      <td>NaN</td>\n      <td>NaN</td>\n      <td>(not provided)</td>\n      <td>organic</td>\n      <td>NaN</td>\n      <td>google</td>\n    </tr>\n    <tr>\n      <th>1</th>\n      <td>Organic Search</td>\n      <td>20160902</td>\n      <td>377306020877927890</td>\n      <td>377306020877927890_1472880147</td>\n      <td>Not Socially Engaged</td>\n      <td>1472880147</td>\n      <td>1</td>\n      <td>1472880147</td>\n      <td>not available in demo dataset</td>\n      <td>not available in demo dataset</td>\n      <td>Oceania</td>\n      <td>Australia</td>\n      <td>not available in demo dataset</td>\n      <td>not available in demo dataset</td>\n      <td>not available in demo dataset</td>\n      <td>dodo.net.au</td>\n      <td>not available in demo dataset</td>\n      <td>not available in demo dataset</td>\n      <td>Australasia</td>\n      <td>Firefox</td>\n      <td>not available in demo dataset</td>\n      <td>not available in demo dataset</td>\n      <td>desktop</td>\n      <td>not available in demo dataset</td>\n      <td>False</td>\n      <td>not available in demo dataset</td>\n      <td>not available in demo dataset</td>\n      <td>not available in demo dataset</td>\n      <td>not available in demo dataset</td>\n      <td>not available in demo dataset</td>\n      <td>not available in demo dataset</td>\n      <td>Macintosh</td>\n      <td>not available in demo dataset</td>\n      <td>not available in demo dataset</td>\n      <td>not available in demo dataset</td>\n      <td>1</td>\n      <td>1</td>\n      <td>1</td>\n      <td>1</td>\n      <td>NaN</td>\n      <td>1</td>\n      <td>NaN</td>\n      <td>{'criteriaParameters': 'not available in demo ...</td>\n      <td>(not set)</td>\n      <td>NaN</td>\n      <td>NaN</td>\n      <td>(not provided)</td>\n      <td>organic</td>\n      <td>NaN</td>\n      <td>google</td>\n    </tr>\n    <tr>\n      <th>2</th>\n      <td>Organic Search</td>\n      <td>20160902</td>\n      <td>3895546263509774583</td>\n      <td>3895546263509774583_1472865386</td>\n      <td>Not Socially Engaged</td>\n      <td>1472865386</td>\n      <td>1</td>\n      <td>1472865386</td>\n      <td>Madrid</td>\n      <td>not available in demo dataset</td>\n      <td>Europe</td>\n      <td>Spain</td>\n      <td>not available in demo dataset</td>\n      <td>not available in demo dataset</td>\n      <td>(not set)</td>\n      <td>unknown.unknown</td>\n      <td>not available in demo dataset</td>\n      <td>Community of Madrid</td>\n      <td>Southern Europe</td>\n      <td>Chrome</td>\n      <td>not available in demo dataset</td>\n      <td>not available in demo dataset</td>\n      <td>desktop</td>\n      <td>not available in demo dataset</td>\n      <td>False</td>\n      <td>not available in demo dataset</td>\n      <td>not available in demo dataset</td>\n      <td>not available in demo dataset</td>\n      <td>not available in demo dataset</td>\n      <td>not available in demo dataset</td>\n      <td>not available in demo dataset</td>\n      <td>Windows</td>\n      <td>not available in demo dataset</td>\n      <td>not available in demo dataset</td>\n      <td>not available in demo dataset</td>\n      <td>1</td>\n      <td>1</td>\n      <td>1</td>\n      <td>1</td>\n      <td>NaN</td>\n      <td>1</td>\n      <td>NaN</td>\n      <td>{'criteriaParameters': 'not available in demo ...</td>\n      <td>(not set)</td>\n      <td>NaN</td>\n      <td>NaN</td>\n      <td>(not provided)</td>\n      <td>organic</td>\n      <td>NaN</td>\n      <td>google</td>\n    </tr>\n    <tr>\n      <th>3</th>\n      <td>Organic Search</td>\n      <td>20160902</td>\n      <td>4763447161404445595</td>\n      <td>4763447161404445595_1472881213</td>\n      <td>Not Socially Engaged</td>\n      <td>1472881213</td>\n      <td>1</td>\n      <td>1472881213</td>\n      <td>not available in demo dataset</td>\n      <td>not available in demo dataset</td>\n      <td>Asia</td>\n      <td>Indonesia</td>\n      <td>not available in demo dataset</td>\n      <td>not available in demo dataset</td>\n      <td>not available in demo dataset</td>\n      <td>unknown.unknown</td>\n      <td>not available in demo dataset</td>\n      <td>not available in demo dataset</td>\n      <td>Southeast Asia</td>\n      <td>UC Browser</td>\n      <td>not available in demo dataset</td>\n      <td>not available in demo dataset</td>\n      <td>desktop</td>\n      <td>not available in demo dataset</td>\n      <td>False</td>\n      <td>not available in demo dataset</td>\n      <td>not available in demo dataset</td>\n      <td>not available in demo dataset</td>\n      <td>not available in demo dataset</td>\n      <td>not available in demo dataset</td>\n      <td>not available in demo dataset</td>\n      <td>Linux</td>\n      <td>not available in demo dataset</td>\n      <td>not available in demo dataset</td>\n      <td>not available in demo dataset</td>\n      <td>1</td>\n      <td>1</td>\n      <td>1</td>\n      <td>1</td>\n      <td>NaN</td>\n      <td>1</td>\n      <td>NaN</td>\n      <td>{'criteriaParameters': 'not available in demo ...</td>\n      <td>(not set)</td>\n      <td>NaN</td>\n      <td>NaN</td>\n      <td>google + online</td>\n      <td>organic</td>\n      <td>NaN</td>\n      <td>google</td>\n    </tr>\n    <tr>\n      <th>4</th>\n      <td>Organic Search</td>\n      <td>20160902</td>\n      <td>27294437909732085</td>\n      <td>27294437909732085_1472822600</td>\n      <td>Not Socially Engaged</td>\n      <td>1472822600</td>\n      <td>2</td>\n      <td>1472822600</td>\n      <td>not available in demo dataset</td>\n      <td>not available in demo dataset</td>\n      <td>Europe</td>\n      <td>United Kingdom</td>\n      <td>not available in demo dataset</td>\n      <td>not available in demo dataset</td>\n      <td>not available in demo dataset</td>\n      <td>unknown.unknown</td>\n      <td>not available in demo dataset</td>\n      <td>not available in demo dataset</td>\n      <td>Northern Europe</td>\n      <td>Chrome</td>\n      <td>not available in demo dataset</td>\n      <td>not available in demo dataset</td>\n      <td>mobile</td>\n      <td>not available in demo dataset</td>\n      <td>True</td>\n      <td>not available in demo dataset</td>\n      <td>not available in demo dataset</td>\n      <td>not available in demo dataset</td>\n      <td>not available in demo dataset</td>\n      <td>not available in demo dataset</td>\n      <td>not available in demo dataset</td>\n      <td>Android</td>\n      <td>not available in demo dataset</td>\n      <td>not available in demo dataset</td>\n      <td>not available in demo dataset</td>\n      <td>1</td>\n      <td>1</td>\n      <td>NaN</td>\n      <td>1</td>\n      <td>NaN</td>\n      <td>1</td>\n      <td>NaN</td>\n      <td>{'criteriaParameters': 'not available in demo ...</td>\n      <td>(not set)</td>\n      <td>NaN</td>\n      <td>True</td>\n      <td>(not provided)</td>\n      <td>organic</td>\n      <td>NaN</td>\n      <td>google</td>\n    </tr>\n  </tbody>\n</table>\n</div>"
          },
          "metadata": {}
        }
      ]
    },
    {
      "metadata": {
        "trusted": true,
        "_uuid": "1327289bf5327f955ff9e1561d8e6bbceea6f190"
      },
      "cell_type": "code",
      "source": "df = df.drop(['latitude','longitude','cityId','networkLocation', 'browserSize','browserVersion',\n        'flashVersion','language','mobileDeviceBranding','mobileDeviceInfo','mobileDeviceMarketingName',\n        'mobileDeviceModel','mobileInputSelector','operatingSystemVersion','screenColors','screenResolution',\n        'adwordsClickInfo'],axis=1)",
      "execution_count": 71,
      "outputs": []
    },
    {
      "metadata": {
        "trusted": true,
        "_uuid": "c45f4f83c3f60ca32b4fd3726df209c16e522100"
      },
      "cell_type": "code",
      "source": "df.head()",
      "execution_count": 72,
      "outputs": [
        {
          "output_type": "execute_result",
          "execution_count": 72,
          "data": {
            "text/plain": "  channelGrouping      date   ...   referralPath  source\n0  Organic Search  20160902   ...            NaN  google\n1  Organic Search  20160902   ...            NaN  google\n2  Organic Search  20160902   ...            NaN  google\n3  Organic Search  20160902   ...            NaN  google\n4  Organic Search  20160902   ...            NaN  google\n\n[5 rows x 33 columns]",
            "text/html": "<div>\n<style scoped>\n    .dataframe tbody tr th:only-of-type {\n        vertical-align: middle;\n    }\n\n    .dataframe tbody tr th {\n        vertical-align: top;\n    }\n\n    .dataframe thead th {\n        text-align: right;\n    }\n</style>\n<table border=\"1\" class=\"dataframe\">\n  <thead>\n    <tr style=\"text-align: right;\">\n      <th></th>\n      <th>channelGrouping</th>\n      <th>date</th>\n      <th>fullVisitorId</th>\n      <th>sessionId</th>\n      <th>socialEngagementType</th>\n      <th>visitId</th>\n      <th>visitNumber</th>\n      <th>visitStartTime</th>\n      <th>city</th>\n      <th>continent</th>\n      <th>country</th>\n      <th>metro</th>\n      <th>networkDomain</th>\n      <th>region</th>\n      <th>subContinent</th>\n      <th>browser</th>\n      <th>deviceCategory</th>\n      <th>isMobile</th>\n      <th>operatingSystem</th>\n      <th>bounces</th>\n      <th>hits</th>\n      <th>newVisits</th>\n      <th>pageviews</th>\n      <th>transactionRevenue</th>\n      <th>visits</th>\n      <th>adContent</th>\n      <th>campaign</th>\n      <th>campaignCode</th>\n      <th>isTrueDirect</th>\n      <th>keyword</th>\n      <th>medium</th>\n      <th>referralPath</th>\n      <th>source</th>\n    </tr>\n  </thead>\n  <tbody>\n    <tr>\n      <th>0</th>\n      <td>Organic Search</td>\n      <td>20160902</td>\n      <td>1131660440785968503</td>\n      <td>1131660440785968503_1472830385</td>\n      <td>Not Socially Engaged</td>\n      <td>1472830385</td>\n      <td>1</td>\n      <td>1472830385</td>\n      <td>Izmir</td>\n      <td>Asia</td>\n      <td>Turkey</td>\n      <td>(not set)</td>\n      <td>ttnet.com.tr</td>\n      <td>Izmir</td>\n      <td>Western Asia</td>\n      <td>Chrome</td>\n      <td>desktop</td>\n      <td>False</td>\n      <td>Windows</td>\n      <td>1</td>\n      <td>1</td>\n      <td>1</td>\n      <td>1</td>\n      <td>NaN</td>\n      <td>1</td>\n      <td>NaN</td>\n      <td>(not set)</td>\n      <td>NaN</td>\n      <td>NaN</td>\n      <td>(not provided)</td>\n      <td>organic</td>\n      <td>NaN</td>\n      <td>google</td>\n    </tr>\n    <tr>\n      <th>1</th>\n      <td>Organic Search</td>\n      <td>20160902</td>\n      <td>377306020877927890</td>\n      <td>377306020877927890_1472880147</td>\n      <td>Not Socially Engaged</td>\n      <td>1472880147</td>\n      <td>1</td>\n      <td>1472880147</td>\n      <td>not available in demo dataset</td>\n      <td>Oceania</td>\n      <td>Australia</td>\n      <td>not available in demo dataset</td>\n      <td>dodo.net.au</td>\n      <td>not available in demo dataset</td>\n      <td>Australasia</td>\n      <td>Firefox</td>\n      <td>desktop</td>\n      <td>False</td>\n      <td>Macintosh</td>\n      <td>1</td>\n      <td>1</td>\n      <td>1</td>\n      <td>1</td>\n      <td>NaN</td>\n      <td>1</td>\n      <td>NaN</td>\n      <td>(not set)</td>\n      <td>NaN</td>\n      <td>NaN</td>\n      <td>(not provided)</td>\n      <td>organic</td>\n      <td>NaN</td>\n      <td>google</td>\n    </tr>\n    <tr>\n      <th>2</th>\n      <td>Organic Search</td>\n      <td>20160902</td>\n      <td>3895546263509774583</td>\n      <td>3895546263509774583_1472865386</td>\n      <td>Not Socially Engaged</td>\n      <td>1472865386</td>\n      <td>1</td>\n      <td>1472865386</td>\n      <td>Madrid</td>\n      <td>Europe</td>\n      <td>Spain</td>\n      <td>(not set)</td>\n      <td>unknown.unknown</td>\n      <td>Community of Madrid</td>\n      <td>Southern Europe</td>\n      <td>Chrome</td>\n      <td>desktop</td>\n      <td>False</td>\n      <td>Windows</td>\n      <td>1</td>\n      <td>1</td>\n      <td>1</td>\n      <td>1</td>\n      <td>NaN</td>\n      <td>1</td>\n      <td>NaN</td>\n      <td>(not set)</td>\n      <td>NaN</td>\n      <td>NaN</td>\n      <td>(not provided)</td>\n      <td>organic</td>\n      <td>NaN</td>\n      <td>google</td>\n    </tr>\n    <tr>\n      <th>3</th>\n      <td>Organic Search</td>\n      <td>20160902</td>\n      <td>4763447161404445595</td>\n      <td>4763447161404445595_1472881213</td>\n      <td>Not Socially Engaged</td>\n      <td>1472881213</td>\n      <td>1</td>\n      <td>1472881213</td>\n      <td>not available in demo dataset</td>\n      <td>Asia</td>\n      <td>Indonesia</td>\n      <td>not available in demo dataset</td>\n      <td>unknown.unknown</td>\n      <td>not available in demo dataset</td>\n      <td>Southeast Asia</td>\n      <td>UC Browser</td>\n      <td>desktop</td>\n      <td>False</td>\n      <td>Linux</td>\n      <td>1</td>\n      <td>1</td>\n      <td>1</td>\n      <td>1</td>\n      <td>NaN</td>\n      <td>1</td>\n      <td>NaN</td>\n      <td>(not set)</td>\n      <td>NaN</td>\n      <td>NaN</td>\n      <td>google + online</td>\n      <td>organic</td>\n      <td>NaN</td>\n      <td>google</td>\n    </tr>\n    <tr>\n      <th>4</th>\n      <td>Organic Search</td>\n      <td>20160902</td>\n      <td>27294437909732085</td>\n      <td>27294437909732085_1472822600</td>\n      <td>Not Socially Engaged</td>\n      <td>1472822600</td>\n      <td>2</td>\n      <td>1472822600</td>\n      <td>not available in demo dataset</td>\n      <td>Europe</td>\n      <td>United Kingdom</td>\n      <td>not available in demo dataset</td>\n      <td>unknown.unknown</td>\n      <td>not available in demo dataset</td>\n      <td>Northern Europe</td>\n      <td>Chrome</td>\n      <td>mobile</td>\n      <td>True</td>\n      <td>Android</td>\n      <td>1</td>\n      <td>1</td>\n      <td>NaN</td>\n      <td>1</td>\n      <td>NaN</td>\n      <td>1</td>\n      <td>NaN</td>\n      <td>(not set)</td>\n      <td>NaN</td>\n      <td>True</td>\n      <td>(not provided)</td>\n      <td>organic</td>\n      <td>NaN</td>\n      <td>google</td>\n    </tr>\n  </tbody>\n</table>\n</div>"
          },
          "metadata": {}
        }
      ]
    },
    {
      "metadata": {
        "_uuid": "b15204b474e2f9eebe5679056dbe570782203c25"
      },
      "cell_type": "markdown",
      "source": "## Save sorted dataframe in csv. "
    },
    {
      "metadata": {
        "trusted": true,
        "_uuid": "83865153e0588853da2428f4ec2d2fc3a88ab331"
      },
      "cell_type": "code",
      "source": "df.to_csv('out.csv', sep=',')",
      "execution_count": 78,
      "outputs": []
    },
    {
      "metadata": {
        "trusted": true,
        "_uuid": "b42bc35e79fac4c9c697a07d6a27eb1bf2211852",
        "scrolled": false
      },
      "cell_type": "code",
      "source": "import seaborn as sns\nimport matplotlib.pyplot as plt\n#plt.figure(figsize=(12,15))\n#sns.set(style=\"darkgrid\")\n#ax = sns.countplot(y=\"browser\",hue = \"visitNumber\", data=df)",
      "execution_count": 79,
      "outputs": []
    },
    {
      "metadata": {
        "trusted": true,
        "_uuid": "e22fbf0f038736a7a4a0b0fd6f70ab1c61638728"
      },
      "cell_type": "code",
      "source": "import seaborn as sns\nplt.figure(figsize=(5,6))\nsns.set(style=\"darkgrid\")\nax = sns.countplot(x=\"visitNumber\", data=df)",
      "execution_count": 80,
      "outputs": [
        {
          "output_type": "display_data",
          "data": {
            "text/plain": "<Figure size 360x432 with 1 Axes>",
            "image/png": "[encoded data removed]"
          },
          "metadata": {}
        }
      ]
    },
    {
      "metadata": {
        "trusted": true,
        "_uuid": "a1065de0f789e1a95af114ecb778be748fb40696"
      },
      "cell_type": "code",
      "source": "plt.figure(figsize=(15,12))\nsns.set(style=\"darkgrid\")\nax = sns.countplot(x=\"transactionRevenue\",data=df)\n",
      "execution_count": 81,
      "outputs": [
        {
          "output_type": "display_data",
          "data": {
            "text/plain": "<Figure size 1080x864 with 1 Axes>",
            "image/png": "[encoded data removed]"
          },
          "metadata": {}
        }
      ]
    },
    {
      "metadata": {
        "trusted": true,
        "_uuid": "59ae7a49d52bbec396b5afd39cc65f496eea8038"
      },
      "cell_type": "code",
      "source": "df['transactionRevenue'].unique()\n",
      "execution_count": 82,
      "outputs": [
        {
          "output_type": "execute_result",
          "execution_count": 82,
          "data": {
            "text/plain": "array([nan, '37860000', '306670000', ..., '335260000', '30750000',\n       '69390000'], dtype=object)"
          },
          "metadata": {}
        }
      ]
    },
    {
      "metadata": {
        "trusted": true,
        "_uuid": "612c415c52ed369283612e6cd6fd227a484a7fe6"
      },
      "cell_type": "code",
      "source": "",
      "execution_count": null,
      "outputs": []
    },
    {
      "metadata": {
        "trusted": true,
        "_uuid": "0a8f40e7a75b7b1385d5d5ff3dc87adf7c5ca688"
      },
      "cell_type": "code",
      "source": "",
      "execution_count": null,
      "outputs": []
    },
    {
      "metadata": {
        "trusted": true,
        "_uuid": "a2aef18c95fb6d7ddbd99f305c4c274a280308b5"
      },
      "cell_type": "code",
      "source": "",
      "execution_count": null,
      "outputs": []
    },
    {
      "metadata": {
        "trusted": true,
        "_uuid": "b7395647ad2045d950a59c2077563a236585e81d"
      },
      "cell_type": "code",
      "source": "",
      "execution_count": null,
      "outputs": []
    },
    {
      "metadata": {
        "trusted": true,
        "_uuid": "0fb636260ea8fea2ab18f104909bc2a3859fe98c"
      },
      "cell_type": "code",
      "source": "",
      "execution_count": null,
      "outputs": []
    },
    {
      "metadata": {
        "trusted": true,
        "_uuid": "c60c9dde53306f6cfbf9a499d7943d1172778228"
      },
      "cell_type": "code",
      "source": "",
      "execution_count": null,
      "outputs": []
    },
    {
      "metadata": {
        "trusted": true,
        "_uuid": "98862253f28d4ba1815c41006ef1e2f051b0351f"
      },
      "cell_type": "code",
      "source": "",
      "execution_count": null,
      "outputs": []
    }
  ],
  "metadata": {
    "kernelspec": {
      "display_name": "Python 3",
      "language": "python",
      "name": "python3"
    },
    "language_info": {
      "name": "python",
      "version": "3.6.6",
      "mimetype": "text/x-python",
      "codemirror_mode": {
        "name": "ipython",
        "version": 3
      },
      "pygments_lexer": "ipython3",
      "nbconvert_exporter": "python",
      "file_extension": ".py"
    }
  },
  "nbformat": 4,
  "nbformat_minor": 1
}